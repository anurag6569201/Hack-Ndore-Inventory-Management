{
 "cells": [
  {
   "cell_type": "code",
   "execution_count": 31,
   "metadata": {},
   "outputs": [],
   "source": [
    "from langchain_community.document_loaders import PyPDFDirectoryLoader\n",
    "from langchain.text_splitter import RecursiveCharacterTextSplitter\n",
    "from langchain_google_genai import GoogleGenerativeAIEmbeddings\n",
    "from langchain_google_genai import ChatGoogleGenerativeAI\n",
    "\n",
    "from langchain.vectorstores import Chroma\n",
    "import os\n",
    "import sqlite3\n",
    "from langchain.schema import Document"
   ]
  },
  {
   "cell_type": "code",
   "execution_count": 32,
   "metadata": {},
   "outputs": [],
   "source": [
    "tables_list_obj = ['assets_manage_asset', 'assets_manage_vehicle', 'core_problem', 'core_ambulance', 'core_bedsinventory', 'core_o2inventory', 'core_staffmember', 'maintain_maintenancetask', 'core_labor', 'core_attendance', 'core_taskassignment', 'core_task']"
   ]
  },
  {
   "cell_type": "code",
   "execution_count": 33,
   "metadata": {},
   "outputs": [],
   "source": [
    "conn = sqlite3.connect('db.sqlite3')  # Ensure this path is correct\n",
    "table_data = {}"
   ]
  },
  {
   "cell_type": "code",
   "execution_count": 34,
   "metadata": {},
   "outputs": [],
   "source": [
    "cursor = conn.cursor()\n",
    "    \n",
    "for table_name in tables_list_obj:\n",
    "    try:\n",
    "        cursor.execute(f\"SELECT * FROM {table_name};\")\n",
    "        rows = cursor.fetchall()\n",
    "        \n",
    "        cursor.execute(f\"PRAGMA table_info({table_name});\")\n",
    "        columns = cursor.fetchall()\n",
    "        headers = [column[1] for column in columns]\n",
    "        \n",
    "        if rows:\n",
    "            table_data[table_name] = {\"headers\": headers, \"rows\": rows}\n",
    "    \n",
    "    except sqlite3.Error as e:\n",
    "        print(f\"Error processing table {table_name}: {e}\")\n",
    "\n",
    "\n",
    "    docs = [\n",
    "        f\"Table: {table_name}\\nHeaders: {', '.join(data['headers'])}\\nRow: {', '.join(map(str, row))}\"\n",
    "        for table_name, data in table_data.items()\n",
    "        for row in data['rows']\n",
    "    ]"
   ]
  },
  {
   "cell_type": "code",
   "execution_count": 35,
   "metadata": {},
   "outputs": [
    {
     "name": "stdout",
     "output_type": "stream",
     "text": [
      "Generated 111 documents with content.\n"
     ]
    },
    {
     "data": {
      "text/plain": [
       "[Document(page_content='Table: assets_manage_asset\\nHeaders: id, type, make, model, serial_number, condition, current_location, last_known_location, latitude, longitude, location_history, operational_status\\nRow: 1, Excavator, Caterpillar, 320D, CAT320D123456, Good, Bhopal, Indore, 23.2599, 77.4126, [{\"location\": \"Indore\", \"timestamp\": \"2024-01-10T12:00:00Z\"}, {\"location\": \"Bhopal\", \"timestamp\": \"2024-01-05T08:00:00Z\"}], Operational\\nTable: assets_manage_asset'),\n",
       " Document(page_content='Table: assets_manage_asset\\nHeaders: id, type, make, model, serial_number, condition, current_location, last_known_location, latitude, longitude, location_history, operational_status\\nRow: 2, Bulldozer, Komatsu, D65EX-18, KOMD6589123, Excellent, Indore, Gwalior, 22.7196, 75.8577, [{\"location\": \"Gwalior\", \"timestamp\": \"2024-01-15T09:00:00Z\"}, {\"location\": \"Indore\", \"timestamp\": \"2023-12-30T14:00:00Z\"}], Under Repair\\nTable: assets_manage_asset'),\n",
       " Document(page_content='Table: assets_manage_asset\\nHeaders: id, type, make, model, serial_number, condition, current_location, last_known_location, latitude, longitude, location_history, operational_status\\nRow: 3, Garbage Truck, Tata, ACE, TATAACE987654, Average, Gwalior, Jabalpur, 26.2186, 78.1828, [{\"location\": \"Jabalpur\", \"timestamp\": \"2024-01-20T10:00:00Z\"}, {\"location\": \"Gwalior\", \"timestamp\": \"2024-01-10T07:00:00Z\"}], Operational\\nTable: assets_manage_asset'),\n",
       " Document(page_content='Table: assets_manage_asset\\nHeaders: id, type, make, model, serial_number, condition, current_location, last_known_location, latitude, longitude, location_history, operational_status\\nRow: 4, Bus, Mercedes-Benz, OC 500 RF, MB1234567890, Good, Jabalpur, Ujjain, 23.1762, 79.9864, [{\"location\": \"Ujjain\", \"timestamp\": \"2024-01-25T11:00:00Z\"}, {\"location\": \"Jabalpur\", \"timestamp\": \"2024-01-15T15:00:00Z\"}], Operational\\nTable: assets_manage_asset'),\n",
       " Document(page_content='Table: assets_manage_asset\\nHeaders: id, type, make, model, serial_number, condition, current_location, last_known_location, latitude, longitude, location_history, operational_status\\nRow: 5, Excavator, John Deere, 460E, JDC460123456, Fair, Ujjain, Bhopal, 23.1762, 79.9864, [{\"location\": \"Bhopal\", \"timestamp\": \"2024-02-01T12:00:00Z\"}, {\"location\": \"Ujjain\", \"timestamp\": \"2024-01-25T09:00:00Z\"}], Decommissioned\\nTable: assets_manage_asset'),\n",
       " Document(page_content='Table: assets_manage_asset\\nHeaders: id, type, make, model, serial_number, condition, current_location, last_known_location, latitude, longitude, location_history, operational_status\\nRow: 6, Garbage Truck, Komatsu, HD785, KMHD7856789, Operational, Sagar, Khargone, 23.8314, 78.5665, [{\"location\": \"Khargone\", \"timestamp\": \"2024-02-05T10:00:00Z\"}, {\"location\": \"Sagar\", \"timestamp\": \"2024-01-30T08:00:00Z\"}], Operational\\nTable: assets_manage_asset'),\n",
       " Document(page_content='Table: assets_manage_asset\\nHeaders: id, type, make, model, serial_number, condition, current_location, last_known_location, latitude, longitude, location_history, operational_status\\nRow: 7, Garbage Truck, Tadano, TR-100, TADTR1001234, Good, Khargone, Indore, 22.7196, 75.8577, [{\"location\": \"Indore\", \"timestamp\": \"2024-02-10T13:00:00Z\"}, {\"location\": \"Khargone\", \"timestamp\": \"2024-01-25T14:00:00Z\"}], Operational\\nTable: assets_manage_asset'),\n",
       " Document(page_content='Table: assets_manage_asset\\nHeaders: id, type, make, model, serial_number, condition, current_location, last_known_location, latitude, longitude, location_history, operational_status\\nRow: 8, Bulldozer, Case, 570N, CASE570N1234, Excellent, Morena, Chhindwara, 23.2021, 79.9371, [{\"location\": \"Chhindwara\", \"timestamp\": \"2024-02-15T11:00:00Z\"}, {\"location\": \"Morena\", \"timestamp\": \"2024-01-15T09:00:00Z\"}], Operational\\nTable: assets_manage_asset'),\n",
       " Document(page_content='Table: assets_manage_asset\\nHeaders: id, type, make, model, serial_number, condition, current_location, last_known_location, latitude, longitude, location_history, operational_status\\nRow: 9, Excavator, Mahindra, 404, MAH4041234, Good, Chhindwara, Satna, 24.459, 81.6286, [{\"location\": \"Satna\", \"timestamp\": \"2024-02-20T15:00:00Z\"}, {\"location\": \"Chhindwara\", \"timestamp\": \"2024-01-25T10:00:00Z\"}], Under Repair\\nTable: assets_manage_asset'),\n",
       " Document(page_content='Table: assets_manage_asset\\nHeaders: id, type, make, model, serial_number, condition, current_location, last_known_location, latitude, longitude, location_history, operational_status\\nRow: 10, Excavator, Liebherr, R914, LIEB9141234, Fair, Satna, Ujjain, 23.1762, 79.9864, [{\"location\": \"Ujjain\", \"timestamp\": \"2024-03-01T12:00:00Z\"}, {\"location\": \"Satna\", \"timestamp\": \"2024-02-20T08:00:00Z\"}], Decommissioned\\nTable: assets_manage_vehicle'),\n",
       " Document(page_content='Table: assets_manage_vehicle\\nHeaders: id, type, make, model, serial_number, condition, location, purchase_date, last_service_date, next_service_due\\nRow: 1, Excavator, Caterpillar, 320D, CAT320D123456, Good, Bhopal, 2020-01-15, 2023-01-15, 2024-01-15\\nTable: assets_manage_vehicle\\nHeaders: id, type, make, model, serial_number, condition, location, purchase_date, last_service_date, next_service_due'),\n",
       " Document(page_content='Row: 2, Bulldozer, Komatsu, D65EX-18, KOMD6589123, Excellent, Indore, 2019-06-20, 2022-06-20, 2023-06-20\\nTable: assets_manage_vehicle\\nHeaders: id, type, make, model, serial_number, condition, location, purchase_date, last_service_date, next_service_due\\nRow: 3, Garbage Truck, Tata, ACE, TATAACE987654, Average, Gwalior, 2021-03-10, 2023-03-10, 2024-03-10\\nTable: assets_manage_vehicle'),\n",
       " Document(page_content='Table: assets_manage_vehicle\\nHeaders: id, type, make, model, serial_number, condition, location, purchase_date, last_service_date, next_service_due\\nRow: 4, Bus, Mercedes-Benz, OC 500 RF, MB1234567890, Good, Jabalpur, 2018-11-01, 2022-11-01, 2024-11-01\\nTable: assets_manage_vehicle\\nHeaders: id, type, make, model, serial_number, condition, location, purchase_date, last_service_date, next_service_due\\nRow: 5, Excavator, John Deere, 460E, JDC460123456, Fair, Ujjain, 2017-08-25, 2022-08-25, 2023-08-25'),\n",
       " Document(page_content='Table: assets_manage_vehicle\\nHeaders: id, type, make, model, serial_number, condition, location, purchase_date, last_service_date, next_service_due\\nRow: 6, Bus, Volvo, F10, VOLF1001234, Good, Sagar, 2020-09-01, 2023-09-01, 2024-09-01\\nTable: assets_manage_vehicle\\nHeaders: id, type, make, model, serial_number, condition, location, purchase_date, last_service_date, next_service_due\\nRow: 7, Garbage Truck, Tadano, TAD-1000, TDN10001234, Operational, Khargone, 2021-12-15, 2023-12-15, 2024-12-15'),\n",
       " Document(page_content='Table: assets_manage_vehicle\\nHeaders: id, type, make, model, serial_number, condition, location, purchase_date, last_service_date, next_service_due\\nRow: 8, Bulldozer, Case, 570N, CASE57012345, Excellent, Morena, 2019-05-20, 2022-05-20, 2023-05-20\\nTable: assets_manage_vehicle\\nHeaders: id, type, make, model, serial_number, condition, location, purchase_date, last_service_date, next_service_due\\nRow: 9, Excavator, Mahindra, 404, MAH40456789, Good, Chhindwara, 2020-02-10, 2023-02-10, 2024-02-10'),\n",
       " Document(page_content='Table: assets_manage_vehicle\\nHeaders: id, type, make, model, serial_number, condition, location, purchase_date, last_service_date, next_service_due\\nRow: 10, Excavator, Liebherr, R914, LIEB9145678, Fair, Satna, 2018-11-15, 2022-11-15, 2023-11-15\\nTable: assets_manage_vehicle\\nHeaders: id, type, make, model, serial_number, condition, location, purchase_date, last_service_date, next_service_due\\nRow: 11, Bulldozer, anurag, anurag, 1234556, fine, online, 2024-12-07, 2023-09-09, 2024-09-09'),\n",
       " Document(page_content='Table: core_problem\\nHeaders: id, name, description, image, problem_type, status, seriousness\\nRow: 1, Anurag singh, I have got a pithole in near my house, problems_images/OIP_2_kcRqQOU.jpeg, Sewage & Drainage, not_seen, medium\\nTable: core_problem\\nHeaders: id, name, description, image, problem_type, status, seriousness\\nRow: 2, Test q, test q, problems_images/location-tracking-removebg-preview.png, Waste Management, not_seen, medium\\nTable: core_ambulance'),\n",
       " Document(page_content='Table: core_ambulance\\nHeaders: id, registration_number, type, available, condition, last_maintenance\\nRow: 1, MP01AB1234, Standard, 1, Good, 2024-06-15\\nTable: core_ambulance\\nHeaders: id, registration_number, type, available, condition, last_maintenance\\nRow: 2, MP02CD5678, Advanced Life Support, 1, Good, 2024-07-01\\nTable: core_ambulance\\nHeaders: id, registration_number, type, available, condition, last_maintenance\\nRow: 3, MP03EF9101, Standard, 0, Needs Repair, 2024-06-20\\nTable: core_ambulance'),\n",
       " Document(page_content='Table: core_ambulance\\nHeaders: id, registration_number, type, available, condition, last_maintenance\\nRow: 4, MP04GH2345, Advanced Life Support, 1, Good, 2024-07-05\\nTable: core_ambulance\\nHeaders: id, registration_number, type, available, condition, last_maintenance\\nRow: 5, MP05IJ6789, Standard, 1, Good, 2024-06-25\\nTable: core_ambulance\\nHeaders: id, registration_number, type, available, condition, last_maintenance\\nRow: 6, MP06KL0123, Advanced Life Support, 0, Needs Repair, 2024-06-30'),\n",
       " Document(page_content='Table: core_ambulance\\nHeaders: id, registration_number, type, available, condition, last_maintenance\\nRow: 7, MP07MN4567, Standard, 1, Good, 2024-07-01\\nTable: core_ambulance\\nHeaders: id, registration_number, type, available, condition, last_maintenance\\nRow: 8, MP08OP8901, Advanced Life Support, 1, Good, 2024-07-10\\nTable: core_ambulance\\nHeaders: id, registration_number, type, available, condition, last_maintenance\\nRow: 9, MP09QR2345, Standard, 1, Needs Repair, 2024-06-22\\nTable: core_ambulance'),\n",
       " Document(page_content='Table: core_ambulance\\nHeaders: id, registration_number, type, available, condition, last_maintenance\\nRow: 10, MP10ST6789, Advanced Life Support, 1, Good, 2024-07-03\\nTable: core_ambulance\\nHeaders: id, registration_number, type, available, condition, last_maintenance\\nRow: 11, MP11UV0123, Standard, 0, Needs Repair, 2024-06-28\\nTable: core_ambulance\\nHeaders: id, registration_number, type, available, condition, last_maintenance\\nRow: 12, MP12WX4567, Advanced Life Support, 1, Good, 2024-07-12'),\n",
       " Document(page_content='Table: core_ambulance\\nHeaders: id, registration_number, type, available, condition, last_maintenance\\nRow: 13, MP13YZ8901, Standard, 1, Good, 2024-07-08\\nTable: core_ambulance\\nHeaders: id, registration_number, type, available, condition, last_maintenance\\nRow: 14, MP14AB2345, Advanced Life Support, 1, Good, 2024-07-04\\nTable: core_ambulance\\nHeaders: id, registration_number, type, available, condition, last_maintenance\\nRow: 15, MP15CD6789, Standard, 1, Needs Repair, 2024-06-26\\nTable: core_ambulance'),\n",
       " Document(page_content='Table: core_ambulance\\nHeaders: id, registration_number, type, available, condition, last_maintenance\\nRow: 16, MP16EF0123, Advanced Life Support, 1, Good, 2024-07-09\\nTable: core_ambulance\\nHeaders: id, registration_number, type, available, condition, last_maintenance\\nRow: 17, MP17GH4567, Standard, 0, Needs Repair, 2024-07-02\\nTable: core_ambulance\\nHeaders: id, registration_number, type, available, condition, last_maintenance\\nRow: 18, MP18IJ8901, Advanced Life Support, 1, Good, 2024-07-07'),\n",
       " Document(page_content='Table: core_ambulance\\nHeaders: id, registration_number, type, available, condition, last_maintenance\\nRow: 19, MP19KL2345, Standard, 1, Good, 2024-06-29\\nTable: core_ambulance\\nHeaders: id, registration_number, type, available, condition, last_maintenance\\nRow: 20, MP20MN6789, Advanced Life Support, 1, Needs Repair, 2024-07-11\\nTable: core_ambulance\\nHeaders: id, registration_number, type, available, condition, last_maintenance\\nRow: 21, MP21OP0123, Standard, 1, Good, 2024-06-24\\nTable: core_ambulance'),\n",
       " Document(page_content='Table: core_ambulance\\nHeaders: id, registration_number, type, available, condition, last_maintenance\\nRow: 22, MP22QR4567, Advanced Life Support, 0, Needs Repair, 2024-07-06\\nTable: core_ambulance\\nHeaders: id, registration_number, type, available, condition, last_maintenance\\nRow: 23, MP23ST8901, Standard, 1, Good, 2024-07-02\\nTable: core_ambulance\\nHeaders: id, registration_number, type, available, condition, last_maintenance\\nRow: 24, MP24UV2345, Advanced Life Support, 1, Good, 2024-07-08'),\n",
       " Document(page_content='Table: core_ambulance\\nHeaders: id, registration_number, type, available, condition, last_maintenance\\nRow: 25, MP25WX6789, Standard, 0, Needs Repair, 2024-07-10\\nTable: core_ambulance\\nHeaders: id, registration_number, type, available, condition, last_maintenance\\nRow: 26, MP26YZ0123, Advanced Life Support, 1, Good, 2024-07-12\\nTable: core_ambulance\\nHeaders: id, registration_number, type, available, condition, last_maintenance\\nRow: 27, MP27AB4567, Standard, 1, Good, 2024-06-23\\nTable: core_ambulance'),\n",
       " Document(page_content='Table: core_ambulance\\nHeaders: id, registration_number, type, available, condition, last_maintenance\\nRow: 28, MP28CD8901, Advanced Life Support, 1, Needs Repair, 2024-07-01\\nTable: core_ambulance\\nHeaders: id, registration_number, type, available, condition, last_maintenance\\nRow: 29, MP29EF2345, Standard, 1, Good, 2024-07-05\\nTable: core_ambulance\\nHeaders: id, registration_number, type, available, condition, last_maintenance\\nRow: 30, MP30GH6789, Advanced Life Support, 1, Good, 2024-07-07'),\n",
       " Document(page_content='Table: core_ambulance\\nHeaders: id, registration_number, type, available, condition, last_maintenance\\nRow: 31, MP31IJ0123, Standard, 0, Needs Repair, 2024-07-03\\nTable: core_ambulance\\nHeaders: id, registration_number, type, available, condition, last_maintenance\\nRow: 32, MP32KL4567, Advanced Life Support, 1, Good, 2024-07-09\\nTable: core_ambulance\\nHeaders: id, registration_number, type, available, condition, last_maintenance\\nRow: 33, MP33MN8901, Standard, 1, Good, 2024-06-27\\nTable: core_ambulance'),\n",
       " Document(page_content='Table: core_ambulance\\nHeaders: id, registration_number, type, available, condition, last_maintenance\\nRow: 34, MP34OP2345, Advanced Life Support, 1, Needs Repair, 2024-07-11\\nTable: core_ambulance\\nHeaders: id, registration_number, type, available, condition, last_maintenance\\nRow: 35, MP35QR6789, Standard, 1, Good, 2024-06-28\\nTable: core_ambulance\\nHeaders: id, registration_number, type, available, condition, last_maintenance\\nRow: 36, MP36ST0123, Advanced Life Support, 0, Needs Repair, 2024-07-12'),\n",
       " Document(page_content='Table: core_ambulance\\nHeaders: id, registration_number, type, available, condition, last_maintenance\\nRow: 37, MP37UV4567, Standard, 1, Good, 2024-07-01\\nTable: core_ambulance\\nHeaders: id, registration_number, type, available, condition, last_maintenance\\nRow: 38, MP38WX8901, Advanced Life Support, 1, Good, 2024-07-10\\nTable: core_ambulance\\nHeaders: id, registration_number, type, available, condition, last_maintenance\\nRow: 39, MP39YZ2345, Standard, 0, Needs Repair, 2024-06-30\\nTable: core_ambulance'),\n",
       " Document(page_content='Table: core_ambulance\\nHeaders: id, registration_number, type, available, condition, last_maintenance\\nRow: 40, MP40AB6789, Advanced Life Support, 1, Good, 2024-07-08\\nTable: core_ambulance\\nHeaders: id, registration_number, type, available, condition, last_maintenance\\nRow: 41, MP41CD0123, Standard, 1, Good, 2024-07-05\\nTable: core_ambulance\\nHeaders: id, registration_number, type, available, condition, last_maintenance\\nRow: 42, MP42EF4567, Advanced Life Support, 0, Needs Repair, 2024-07-01'),\n",
       " Document(page_content='Table: core_ambulance\\nHeaders: id, registration_number, type, available, condition, last_maintenance\\nRow: 43, MP43GH8901, Standard, 1, Good, 2024-06-29\\nTable: core_ambulance\\nHeaders: id, registration_number, type, available, condition, last_maintenance\\nRow: 44, MP44IJ2345, Advanced Life Support, 1, Good, 2024-07-11\\nTable: core_ambulance\\nHeaders: id, registration_number, type, available, condition, last_maintenance\\nRow: 45, MP45KL6789, Standard, 1, Needs Repair, 2024-06-27\\nTable: core_ambulance'),\n",
       " Document(page_content='Table: core_ambulance\\nHeaders: id, registration_number, type, available, condition, last_maintenance\\nRow: 46, MP46MN0123, Advanced Life Support, 1, Good, 2024-07-03\\nTable: core_ambulance\\nHeaders: id, registration_number, type, available, condition, last_maintenance\\nRow: 47, MP47OP4567, Standard, 0, Needs Repair, 2024-06-25\\nTable: core_ambulance\\nHeaders: id, registration_number, type, available, condition, last_maintenance\\nRow: 48, MP48QR8901, Advanced Life Support, 1, Good, 2024-07-12'),\n",
       " Document(page_content='Table: core_ambulance\\nHeaders: id, registration_number, type, available, condition, last_maintenance\\nRow: 49, MP49ST2345, Standard, 1, Good, 2024-07-07\\nTable: core_ambulance\\nHeaders: id, registration_number, type, available, condition, last_maintenance\\nRow: 50, MP50UV6789, Advanced Life Support, 1, Needs Repair, 2024-07-10\\nTable: core_bedsinventory\\nHeaders: id, location, capacity, available, condition, last_checked\\nRow: 1, Indore Hospital, 150, 120, Good, 2024-07-01\\nTable: core_bedsinventory'),\n",
       " Document(page_content='Table: core_bedsinventory\\nHeaders: id, location, capacity, available, condition, last_checked\\nRow: 2, Bhopal Medical Center, 200, 180, Fair, 2024-07-01\\nTable: core_bedsinventory\\nHeaders: id, location, capacity, available, condition, last_checked\\nRow: 3, Jabalpur District Hospital, 100, 90, Good, 2024-07-01\\nTable: core_bedsinventory\\nHeaders: id, location, capacity, available, condition, last_checked\\nRow: 4, Gwalior General Hospital, 180, 160, Good, 2024-07-01\\nTable: core_bedsinventory'),\n",
       " Document(page_content='Table: core_bedsinventory\\nHeaders: id, location, capacity, available, condition, last_checked\\nRow: 5, Satna Government Hospital, 80, 70, Fair, 2024-07-01\\nTable: core_bedsinventory\\nHeaders: id, location, capacity, available, condition, last_checked\\nRow: 6, Ujjain Medical College, 120, 100, Good, 2024-07-01\\nTable: core_bedsinventory\\nHeaders: id, location, capacity, available, condition, last_checked\\nRow: 7, Sagar District Hospital, 90, 75, Good, 2024-07-01\\nTable: core_bedsinventory'),\n",
       " Document(page_content='Table: core_bedsinventory\\nHeaders: id, location, capacity, available, condition, last_checked\\nRow: 8, Rewa Government Hospital, 110, 95, Fair, 2024-07-01\\nTable: core_bedsinventory\\nHeaders: id, location, capacity, available, condition, last_checked\\nRow: 9, Khandwa Hospital, 70, 65, Good, 2024-07-01\\nTable: core_bedsinventory\\nHeaders: id, location, capacity, available, condition, last_checked\\nRow: 10, Chhindwara Medical Center, 130, 115, Fair, 2024-07-01\\nTable: core_bedsinventory'),\n",
       " Document(page_content='Table: core_bedsinventory\\nHeaders: id, location, capacity, available, condition, last_checked\\nRow: 11, Shahdol General Hospital, 85, 70, Good, 2024-07-01\\nTable: core_bedsinventory\\nHeaders: id, location, capacity, available, condition, last_checked\\nRow: 12, Damoh District Hospital, 95, 85, Good, 2024-07-01\\nTable: core_bedsinventory\\nHeaders: id, location, capacity, available, condition, last_checked\\nRow: 13, Sehore Medical College, 150, 130, Good, 2024-07-01\\nTable: core_bedsinventory'),\n",
       " Document(page_content='Table: core_bedsinventory\\nHeaders: id, location, capacity, available, condition, last_checked\\nRow: 14, Khargone Government Hospital, 100, 85, Fair, 2024-07-01\\nTable: core_bedsinventory\\nHeaders: id, location, capacity, available, condition, last_checked\\nRow: 15, Betul Hospital, 75, 60, Good, 2024-07-01\\nTable: core_bedsinventory\\nHeaders: id, location, capacity, available, condition, last_checked\\nRow: 16, Malwa Medical Center, 200, 180, Good, 2024-07-01\\nTable: core_bedsinventory'),\n",
       " Document(page_content='Table: core_bedsinventory\\nHeaders: id, location, capacity, available, condition, last_checked\\nRow: 17, Datia District Hospital, 85, 75, Fair, 2024-07-01\\nTable: core_bedsinventory\\nHeaders: id, location, capacity, available, condition, last_checked\\nRow: 18, Mandla Government Hospital, 110, 100, Good, 2024-07-01\\nTable: core_bedsinventory\\nHeaders: id, location, capacity, available, condition, last_checked\\nRow: 19, Niwari Medical Center, 95, 85, Fair, 2024-07-01\\nTable: core_bedsinventory'),\n",
       " Document(page_content='Table: core_bedsinventory\\nHeaders: id, location, capacity, available, condition, last_checked\\nRow: 20, Shivpuri District Hospital, 120, 100, Good, 2024-07-01\\nTable: core_bedsinventory\\nHeaders: id, location, capacity, available, condition, last_checked\\nRow: 21, Alirajpur Hospital, 70, 60, Good, 2024-07-01\\nTable: core_bedsinventory\\nHeaders: id, location, capacity, available, condition, last_checked\\nRow: 22, Agar Malwa Medical Center, 130, 110, Fair, 2024-07-01\\nTable: core_bedsinventory'),\n",
       " Document(page_content='Table: core_bedsinventory\\nHeaders: id, location, capacity, available, condition, last_checked\\nRow: 23, Panna General Hospital, 90, 80, Good, 2024-07-01\\nTable: core_bedsinventory\\nHeaders: id, location, capacity, available, condition, last_checked\\nRow: 24, Anuppur District Hospital, 80, 70, Fair, 2024-07-01\\nTable: core_bedsinventory\\nHeaders: id, location, capacity, available, condition, last_checked\\nRow: 25, Barwani Government Hospital, 100, 85, Good, 2024-07-01\\nTable: core_bedsinventory'),\n",
       " Document(page_content='Table: core_bedsinventory\\nHeaders: id, location, capacity, available, condition, last_checked\\nRow: 26, Chhatarpur Medical College, 150, 135, Good, 2024-07-01\\nTable: core_bedsinventory\\nHeaders: id, location, capacity, available, condition, last_checked\\nRow: 27, Shahdol Medical Center, 75, 65, Fair, 2024-07-01\\nTable: core_bedsinventory\\nHeaders: id, location, capacity, available, condition, last_checked\\nRow: 28, Mandsaur Hospital, 120, 110, Good, 2024-07-01\\nTable: core_bedsinventory'),\n",
       " Document(page_content='Table: core_bedsinventory\\nHeaders: id, location, capacity, available, condition, last_checked\\nRow: 29, Seoni District Hospital, 90, 80, Fair, 2024-07-01\\nTable: core_bedsinventory\\nHeaders: id, location, capacity, available, condition, last_checked\\nRow: 30, Koriya Government Hospital, 85, 75, Good, 2024-07-01\\nTable: core_bedsinventory\\nHeaders: id, location, capacity, available, condition, last_checked\\nRow: 31, Umaria Medical Center, 100, 85, Good, 2024-07-01\\nTable: core_bedsinventory'),\n",
       " Document(page_content='Table: core_bedsinventory\\nHeaders: id, location, capacity, available, condition, last_checked\\nRow: 32, Rewa Medical College, 130, 120, Fair, 2024-07-01\\nTable: core_bedsinventory\\nHeaders: id, location, capacity, available, condition, last_checked\\nRow: 33, Jabalpur Medical Center, 95, 85, Good, 2024-07-01\\nTable: core_bedsinventory\\nHeaders: id, location, capacity, available, condition, last_checked\\nRow: 34, Guna General Hospital, 110, 95, Fair, 2024-07-01\\nTable: core_bedsinventory'),\n",
       " Document(page_content='Table: core_bedsinventory\\nHeaders: id, location, capacity, available, condition, last_checked\\nRow: 35, Sidhi District Hospital, 80, 70, Good, 2024-07-01\\nTable: core_bedsinventory\\nHeaders: id, location, capacity, available, condition, last_checked\\nRow: 36, Dhar Government Hospital, 75, 65, Fair, 2024-07-01\\nTable: core_bedsinventory\\nHeaders: id, location, capacity, available, condition, last_checked\\nRow: 37, Itarsi Medical Center, 150, 140, Good, 2024-07-01\\nTable: core_bedsinventory'),\n",
       " Document(page_content='Table: core_bedsinventory\\nHeaders: id, location, capacity, available, condition, last_checked\\nRow: 38, Morena General Hospital, 95, 85, Fair, 2024-07-01\\nTable: core_bedsinventory\\nHeaders: id, location, capacity, available, condition, last_checked\\nRow: 39, Shivpuri Medical Center, 100, 90, Good, 2024-07-01\\nTable: core_bedsinventory\\nHeaders: id, location, capacity, available, condition, last_checked\\nRow: 40, Khandwa General Hospital, 120, 100, Fair, 2024-07-01\\nTable: core_bedsinventory'),\n",
       " Document(page_content='Table: core_bedsinventory\\nHeaders: id, location, capacity, available, condition, last_checked\\nRow: 41, Chhindwara District Hospital, 85, 75, Good, 2024-07-01\\nTable: core_bedsinventory\\nHeaders: id, location, capacity, available, condition, last_checked\\nRow: 42, Satna Medical College, 110, 95, Fair, 2024-07-01\\nTable: core_bedsinventory\\nHeaders: id, location, capacity, available, condition, last_checked\\nRow: 43, Rewa Government Hospital, 130, 120, Good, 2024-07-01\\nTable: core_bedsinventory'),\n",
       " Document(page_content='Table: core_bedsinventory\\nHeaders: id, location, capacity, available, condition, last_checked\\nRow: 44, Sehore District Hospital, 100, 85, Fair, 2024-07-01\\nTable: core_bedsinventory\\nHeaders: id, location, capacity, available, condition, last_checked\\nRow: 45, Datia Medical Center, 95, 80, Good, 2024-07-01\\nTable: core_bedsinventory\\nHeaders: id, location, capacity, available, condition, last_checked\\nRow: 46, Khargone Medical Center, 75, 60, Fair, 2024-07-01\\nTable: core_bedsinventory'),\n",
       " Document(page_content='Table: core_bedsinventory\\nHeaders: id, location, capacity, available, condition, last_checked\\nRow: 47, Mandla Medical Center, 120, 105, Good, 2024-07-01\\nTable: core_bedsinventory\\nHeaders: id, location, capacity, available, condition, last_checked\\nRow: 48, Alirajpur District Hospital, 85, 70, Fair, 2024-07-01\\nTable: core_bedsinventory\\nHeaders: id, location, capacity, available, condition, last_checked\\nRow: 49, Barwani Medical Center, 90, 80, Good, 2024-07-01\\nTable: core_bedsinventory'),\n",
       " Document(page_content='Table: core_bedsinventory\\nHeaders: id, location, capacity, available, condition, last_checked\\nRow: 50, Agar Malwa District Hospital, 100, 85, Fair, 2024-07-01\\nTable: core_o2inventory\\nHeaders: id, location, capacity_liters, available, condition, last_checked\\nRow: 1, Indore Hospital, 5000, 4500, Good, 2024-07-01\\nTable: core_o2inventory\\nHeaders: id, location, capacity_liters, available, condition, last_checked\\nRow: 2, Bhopal Medical Center, 6000, 5500, Fair, 2024-07-01\\nTable: core_o2inventory'),\n",
       " Document(page_content='Table: core_o2inventory\\nHeaders: id, location, capacity_liters, available, condition, last_checked\\nRow: 3, Jabalpur District Hospital, 4000, 3500, Good, 2024-07-01\\nTable: core_o2inventory\\nHeaders: id, location, capacity_liters, available, condition, last_checked\\nRow: 4, Gwalior General Hospital, 7000, 6500, Good, 2024-07-01\\nTable: core_o2inventory\\nHeaders: id, location, capacity_liters, available, condition, last_checked\\nRow: 5, Satna Government Hospital, 3000, 2800, Fair, 2024-07-01'),\n",
       " Document(page_content='Table: core_o2inventory\\nHeaders: id, location, capacity_liters, available, condition, last_checked\\nRow: 6, Ujjain Medical College, 4500, 4000, Good, 2024-07-01\\nTable: core_o2inventory\\nHeaders: id, location, capacity_liters, available, condition, last_checked\\nRow: 7, Sagar District Hospital, 3500, 3200, Good, 2024-07-01\\nTable: core_o2inventory\\nHeaders: id, location, capacity_liters, available, condition, last_checked\\nRow: 8, Rewa Government Hospital, 5000, 4700, Fair, 2024-07-01'),\n",
       " Document(page_content='Table: core_o2inventory\\nHeaders: id, location, capacity_liters, available, condition, last_checked\\nRow: 9, Khandwa Hospital, 2500, 2300, Good, 2024-07-01\\nTable: core_o2inventory\\nHeaders: id, location, capacity_liters, available, condition, last_checked\\nRow: 10, Chhindwara Medical Center, 4000, 3800, Fair, 2024-07-01\\nTable: core_o2inventory\\nHeaders: id, location, capacity_liters, available, condition, last_checked\\nRow: 11, Shahdol General Hospital, 3000, 2700, Good, 2024-07-01'),\n",
       " Document(page_content='Table: core_o2inventory\\nHeaders: id, location, capacity_liters, available, condition, last_checked\\nRow: 12, Damoh District Hospital, 3500, 3300, Good, 2024-07-01\\nTable: core_o2inventory\\nHeaders: id, location, capacity_liters, available, condition, last_checked\\nRow: 13, Sehore Medical College, 5000, 4800, Good, 2024-07-01\\nTable: core_o2inventory\\nHeaders: id, location, capacity_liters, available, condition, last_checked\\nRow: 14, Khargone Government Hospital, 4000, 3700, Fair, 2024-07-01'),\n",
       " Document(page_content='Table: core_o2inventory\\nHeaders: id, location, capacity_liters, available, condition, last_checked\\nRow: 15, Betul Hospital, 2500, 2200, Good, 2024-07-01\\nTable: core_o2inventory\\nHeaders: id, location, capacity_liters, available, condition, last_checked\\nRow: 16, Malwa Medical Center, 6000, 5800, Good, 2024-07-01\\nTable: core_o2inventory\\nHeaders: id, location, capacity_liters, available, condition, last_checked\\nRow: 17, Datia District Hospital, 3000, 2800, Fair, 2024-07-01\\nTable: core_o2inventory'),\n",
       " Document(page_content='Table: core_o2inventory\\nHeaders: id, location, capacity_liters, available, condition, last_checked\\nRow: 18, Mandla Government Hospital, 4500, 4200, Good, 2024-07-01\\nTable: core_o2inventory\\nHeaders: id, location, capacity_liters, available, condition, last_checked\\nRow: 19, Niwari Medical Center, 3500, 3200, Fair, 2024-07-01\\nTable: core_o2inventory\\nHeaders: id, location, capacity_liters, available, condition, last_checked\\nRow: 20, Shivpuri District Hospital, 4000, 3700, Good, 2024-07-01'),\n",
       " Document(page_content='Table: core_o2inventory\\nHeaders: id, location, capacity_liters, available, condition, last_checked\\nRow: 21, Alirajpur Hospital, 2000, 1800, Good, 2024-07-01\\nTable: core_o2inventory\\nHeaders: id, location, capacity_liters, available, condition, last_checked\\nRow: 22, Agar Malwa Medical Center, 5000, 4800, Fair, 2024-07-01\\nTable: core_o2inventory\\nHeaders: id, location, capacity_liters, available, condition, last_checked\\nRow: 23, Panna General Hospital, 3000, 2900, Good, 2024-07-01'),\n",
       " Document(page_content='Table: core_o2inventory\\nHeaders: id, location, capacity_liters, available, condition, last_checked\\nRow: 24, Anuppur District Hospital, 2500, 2300, Fair, 2024-07-01\\nTable: core_o2inventory\\nHeaders: id, location, capacity_liters, available, condition, last_checked\\nRow: 25, Barwani Government Hospital, 3500, 3300, Good, 2024-07-01\\nTable: core_o2inventory\\nHeaders: id, location, capacity_liters, available, condition, last_checked\\nRow: 26, Chhatarpur Medical College, 6000, 5700, Good, 2024-07-01'),\n",
       " Document(page_content='Table: core_o2inventory\\nHeaders: id, location, capacity_liters, available, condition, last_checked\\nRow: 27, Shahdol Medical Center, 2000, 1900, Fair, 2024-07-01\\nTable: core_o2inventory\\nHeaders: id, location, capacity_liters, available, condition, last_checked\\nRow: 28, Mandsaur Hospital, 4500, 4200, Good, 2024-07-01\\nTable: core_o2inventory\\nHeaders: id, location, capacity_liters, available, condition, last_checked\\nRow: 29, Seoni District Hospital, 3000, 2800, Fair, 2024-07-01'),\n",
       " Document(page_content='Table: core_o2inventory\\nHeaders: id, location, capacity_liters, available, condition, last_checked\\nRow: 30, Koriya Government Hospital, 3500, 3200, Good, 2024-07-01\\nTable: core_o2inventory\\nHeaders: id, location, capacity_liters, available, condition, last_checked\\nRow: 31, Umaria Medical Center, 4000, 3700, Good, 2024-07-01\\nTable: core_o2inventory\\nHeaders: id, location, capacity_liters, available, condition, last_checked\\nRow: 32, Rewa Medical College, 5500, 5200, Fair, 2024-07-01'),\n",
       " Document(page_content='Table: core_o2inventory\\nHeaders: id, location, capacity_liters, available, condition, last_checked\\nRow: 33, Jabalpur Medical Center, 3500, 3300, Good, 2024-07-01\\nTable: core_o2inventory\\nHeaders: id, location, capacity_liters, available, condition, last_checked\\nRow: 34, Guna General Hospital, 4500, 4200, Fair, 2024-07-01\\nTable: core_o2inventory\\nHeaders: id, location, capacity_liters, available, condition, last_checked\\nRow: 35, Sidhi District Hospital, 3000, 2800, Good, 2024-07-01'),\n",
       " Document(page_content='Table: core_o2inventory\\nHeaders: id, location, capacity_liters, available, condition, last_checked\\nRow: 36, Dhar Government Hospital, 2500, 2300, Fair, 2024-07-01\\nTable: core_o2inventory\\nHeaders: id, location, capacity_liters, available, condition, last_checked\\nRow: 37, Itarsi Medical Center, 6000, 5900, Good, 2024-07-01\\nTable: core_o2inventory\\nHeaders: id, location, capacity_liters, available, condition, last_checked\\nRow: 38, Morena General Hospital, 3500, 3300, Fair, 2024-07-01'),\n",
       " Document(page_content='Table: core_o2inventory\\nHeaders: id, location, capacity_liters, available, condition, last_checked\\nRow: 39, Shivpuri Medical Center, 4000, 3800, Good, 2024-07-01\\nTable: core_o2inventory\\nHeaders: id, location, capacity_liters, available, condition, last_checked\\nRow: 40, Khandwa General Hospital, 4500, 4200, Fair, 2024-07-01\\nTable: core_o2inventory\\nHeaders: id, location, capacity_liters, available, condition, last_checked\\nRow: 41, Chhindwara District Hospital, 3000, 2700, Good, 2024-07-01'),\n",
       " Document(page_content='Table: core_o2inventory\\nHeaders: id, location, capacity_liters, available, condition, last_checked\\nRow: 42, Satna Medical College, 4000, 3700, Fair, 2024-07-01\\nTable: core_o2inventory\\nHeaders: id, location, capacity_liters, available, condition, last_checked\\nRow: 43, Rewa Government Hospital, 5500, 5300, Good, 2024-07-01\\nTable: core_o2inventory\\nHeaders: id, location, capacity_liters, available, condition, last_checked\\nRow: 44, Sehore District Hospital, 3500, 3300, Fair, 2024-07-01'),\n",
       " Document(page_content='Table: core_o2inventory\\nHeaders: id, location, capacity_liters, available, condition, last_checked\\nRow: 45, Datia Medical Center, 3000, 2900, Good, 2024-07-01\\nTable: core_o2inventory\\nHeaders: id, location, capacity_liters, available, condition, last_checked\\nRow: 46, Khargone Medical Center, 2000, 1800, Fair, 2024-07-01\\nTable: core_o2inventory\\nHeaders: id, location, capacity_liters, available, condition, last_checked\\nRow: 47, Mandla Medical Center, 4500, 4300, Good, 2024-07-01'),\n",
       " Document(page_content='Table: core_o2inventory\\nHeaders: id, location, capacity_liters, available, condition, last_checked\\nRow: 48, Alirajpur District Hospital, 2500, 2200, Fair, 2024-07-01\\nTable: core_o2inventory\\nHeaders: id, location, capacity_liters, available, condition, last_checked\\nRow: 49, Barwani Medical Center, 3000, 2800, Good, 2024-07-01\\nTable: core_o2inventory\\nHeaders: id, location, capacity_liters, available, condition, last_checked\\nRow: 50, Agar Malwa District Hospital, 3500, 3300, Fair, 2024-07-01'),\n",
       " Document(page_content='Table: core_staffmember\\nHeaders: id, name, role, department, status, last_updated\\nRow: 1, Dr. Aarti Sharma, Physician, Emergency Room, Active, 2024-07-01\\nTable: core_staffmember\\nHeaders: id, name, role, department, status, last_updated\\nRow: 2, Nurse Ravi Patel, Nurse, General Ward, Active, 2024-07-01\\nTable: core_staffmember\\nHeaders: id, name, role, department, status, last_updated\\nRow: 3, Dr. Rajesh Gupta, Surgeon, Surgical Department, On Leave, 2024-07-01\\nTable: core_staffmember'),\n",
       " Document(page_content='Table: core_staffmember\\nHeaders: id, name, role, department, status, last_updated\\nRow: 4, Anita Deshmukh, Pharmacist, Pharmacy, Active, 2024-07-01\\nTable: core_staffmember\\nHeaders: id, name, role, department, status, last_updated\\nRow: 5, Dr. Sunita Mehta, Intern, Emergency Room, Active, 2024-07-01\\nTable: core_staffmember\\nHeaders: id, name, role, department, status, last_updated\\nRow: 6, Ajay Kumar, Lab Technician, Pathology, Active, 2024-07-01\\nTable: core_staffmember'),\n",
       " Document(page_content='Table: core_staffmember\\nHeaders: id, name, role, department, status, last_updated\\nRow: 7, Nisha Rawat, Administrative Staff, Administration, Active, 2024-07-01\\nTable: core_staffmember\\nHeaders: id, name, role, department, status, last_updated\\nRow: 8, Dr. Manoj Verma, Orthopedic Surgeon, Orthopedics, Active, 2024-07-01\\nTable: core_staffmember\\nHeaders: id, name, role, department, status, last_updated\\nRow: 9, Preeti Joshi, Nurse, ICU, Active, 2024-07-01\\nTable: core_staffmember'),\n",
       " Document(page_content='Table: core_staffmember\\nHeaders: id, name, role, department, status, last_updated\\nRow: 10, Rajiv Singh, Security Guard, Security, Active, 2024-07-01\\nTable: core_staffmember\\nHeaders: id, name, role, department, status, last_updated\\nRow: 11, Dr. Pooja Singh, Cardiologist, Cardiology, On Leave, 2024-07-01\\nTable: core_staffmember\\nHeaders: id, name, role, department, status, last_updated\\nRow: 12, Meera Patel, Receptionist, Front Desk, Active, 2024-07-01\\nTable: core_staffmember'),\n",
       " Document(page_content='Table: core_staffmember\\nHeaders: id, name, role, department, status, last_updated\\nRow: 13, Dr. Vikas Yadav, Pediatrician, Pediatrics, Active, 2024-07-01\\nTable: core_staffmember\\nHeaders: id, name, role, department, status, last_updated\\nRow: 14, Sunil Kumar, Janitor, Maintenance, Active, 2024-07-01\\nTable: core_staffmember\\nHeaders: id, name, role, department, status, last_updated\\nRow: 15, Dr. Kavita Rao, Gynecologist, Obstetrics & Gynecology, Active, 2024-07-01\\nTable: core_staffmember'),\n",
       " Document(page_content='Table: core_staffmember\\nHeaders: id, name, role, department, status, last_updated\\nRow: 16, Radha Sharma, Nurse, General Ward, Active, 2024-07-01\\nTable: core_staffmember\\nHeaders: id, name, role, department, status, last_updated\\nRow: 17, Dr. Arvind Mishra, Urologist, Urology, On Leave, 2024-07-01\\nTable: core_staffmember\\nHeaders: id, name, role, department, status, last_updated\\nRow: 18, Simran Kaur, Lab Technician, Microbiology, Active, 2024-07-01\\nTable: core_staffmember'),\n",
       " Document(page_content='Table: core_staffmember\\nHeaders: id, name, role, department, status, last_updated\\nRow: 19, Dr. Ramesh Chandra, ENT Specialist, ENT, Active, 2024-07-01\\nTable: core_staffmember\\nHeaders: id, name, role, department, status, last_updated\\nRow: 20, Ajay Mishra, Administrative Staff, HR, Active, 2024-07-01\\nTable: core_staffmember\\nHeaders: id, name, role, department, status, last_updated\\nRow: 21, Dr. Meenal Gupta, Anesthesiologist, Anesthesia, Active, 2024-07-01\\nTable: core_staffmember'),\n",
       " Document(page_content='Table: core_staffmember\\nHeaders: id, name, role, department, status, last_updated\\nRow: 22, Ritu Sharma, Nurse, Emergency Room, Active, 2024-07-01\\nTable: core_staffmember\\nHeaders: id, name, role, department, status, last_updated\\nRow: 23, Dr. Vinod Patel, Nephrologist, Nephrology, On Leave, 2024-07-01\\nTable: core_staffmember\\nHeaders: id, name, role, department, status, last_updated\\nRow: 24, Suresh Choudhury, Security Guard, Security, Active, 2024-07-01\\nTable: core_staffmember'),\n",
       " Document(page_content='Table: core_staffmember\\nHeaders: id, name, role, department, status, last_updated\\nRow: 25, Dr. Deepak Kumar, Oncologist, Oncology, Active, 2024-07-01\\nTable: core_staffmember\\nHeaders: id, name, role, department, status, last_updated\\nRow: 26, Neha Joshi, Receptionist, Front Desk, Active, 2024-07-01\\nTable: core_staffmember\\nHeaders: id, name, role, department, status, last_updated\\nRow: 27, Dr. Swati Singh, Radiologist, Radiology, Active, 2024-07-01\\nTable: core_staffmember'),\n",
       " Document(page_content='Table: core_staffmember\\nHeaders: id, name, role, department, status, last_updated\\nRow: 28, Anil Kumar, Janitor, Maintenance, Active, 2024-07-01\\nTable: core_staffmember\\nHeaders: id, name, role, department, status, last_updated\\nRow: 29, Dr. Asha Sinha, Neurologist, Neurology, On Leave, 2024-07-01\\nTable: core_staffmember\\nHeaders: id, name, role, department, status, last_updated\\nRow: 30, Seema Patel, Administrative Staff, Finance, Active, 2024-07-01\\nTable: core_staffmember'),\n",
       " Document(page_content='Table: core_staffmember\\nHeaders: id, name, role, department, status, last_updated\\nRow: 31, Dr. Vikram Singh, Endocrinologist, Endocrinology, Active, 2024-07-01\\nTable: core_staffmember\\nHeaders: id, name, role, department, status, last_updated\\nRow: 32, Rajesh Kumar, Nurse, ICU, Active, 2024-07-01\\nTable: core_staffmember\\nHeaders: id, name, role, department, status, last_updated\\nRow: 33, Dr. Neeraj Gupta, Cardiothoracic Surgeon, Cardiothoracic Surgery, Active, 2024-07-01\\nTable: core_staffmember'),\n",
       " Document(page_content='Table: core_staffmember\\nHeaders: id, name, role, department, status, last_updated\\nRow: 34, Ravi Sharma, Lab Technician, Chemistry, Active, 2024-07-01\\nTable: core_staffmember\\nHeaders: id, name, role, department, status, last_updated\\nRow: 35, Dr. Ritu Mehta, Emergency Medicine Specialist, Emergency Room, Active, 2024-07-01\\nTable: core_staffmember\\nHeaders: id, name, role, department, status, last_updated\\nRow: 36, Pooja Rawat, Nurse, General Ward, Active, 2024-07-01\\nTable: core_staffmember'),\n",
       " Document(page_content='Table: core_staffmember\\nHeaders: id, name, role, department, status, last_updated\\nRow: 37, Dr. Mohan Rao, Gastroenterologist, Gastroenterology, On Leave, 2024-07-01\\nTable: core_staffmember\\nHeaders: id, name, role, department, status, last_updated\\nRow: 38, Sunita Yadav, Receptionist, Front Desk, Active, 2024-07-01\\nTable: core_staffmember\\nHeaders: id, name, role, department, status, last_updated\\nRow: 39, Dr. Nitin Patel, Neurosurgeon, Neurosurgery, Active, 2024-07-01\\nTable: core_staffmember'),\n",
       " Document(page_content='Table: core_staffmember\\nHeaders: id, name, role, department, status, last_updated\\nRow: 40, Deepak Kumar, Security Guard, Security, Active, 2024-07-01\\nTable: core_staffmember\\nHeaders: id, name, role, department, status, last_updated\\nRow: 41, Dr. Shalini Verma, Internal Medicine Specialist, Internal Medicine, Active, 2024-07-01\\nTable: core_staffmember\\nHeaders: id, name, role, department, status, last_updated\\nRow: 42, Sangeeta Sharma, Nurse, Emergency Room, Active, 2024-07-01'),\n",
       " Document(page_content='Table: core_staffmember\\nHeaders: id, name, role, department, status, last_updated\\nRow: 43, Dr. Vikas Kumar, Rheumatologist, Rheumatology, On Leave, 2024-07-01\\nTable: core_staffmember\\nHeaders: id, name, role, department, status, last_updated\\nRow: 44, Ajay Yadav, Janitor, Maintenance, Active, 2024-07-01\\nTable: core_staffmember\\nHeaders: id, name, role, department, status, last_updated\\nRow: 45, Dr. Pradeep Mehta, Plastic Surgeon, Plastic Surgery, Active, 2024-07-01\\nTable: core_staffmember'),\n",
       " Document(page_content='Table: core_staffmember\\nHeaders: id, name, role, department, status, last_updated\\nRow: 46, Shweta Joshi, Administrative Staff, IT, Active, 2024-07-01\\nTable: core_staffmember\\nHeaders: id, name, role, department, status, last_updated\\nRow: 47, Dr. Jyoti Gupta, Pathologist, Pathology, Active, 2024-07-01\\nTable: core_staffmember\\nHeaders: id, name, role, department, status, last_updated\\nRow: 48, Neeraj Sharma, Nurse, ICU, Active, 2024-07-01\\nTable: core_staffmember'),\n",
       " Document(page_content='Table: core_staffmember\\nHeaders: id, name, role, department, status, last_updated\\nRow: 49, Dr. Arti Sinha, Allergist, Allergy, On Leave, 2024-07-01\\nTable: core_staffmember\\nHeaders: id, name, role, department, status, last_updated\\nRow: 50, Sunil Patel, Security Guard, Security, Active, 2024-07-01\\nTable: maintain_maintenancetask\\nHeaders: id, machinery, hours_of_operation, description, status, due_date\\nRow: 1, Excavator, 120, Routine maintenance check., N, 2024-07-28 01:37:17'),\n",
       " Document(page_content='Table: maintain_maintenancetask\\nHeaders: id, machinery, hours_of_operation, description, status, due_date\\nRow: 2, Bulldozer, 350, Oil change and filter replacement., g, 2024-07-29 10:15:00\\nTable: maintain_maintenancetask\\nHeaders: id, machinery, hours_of_operation, description, status, due_date\\nRow: 3, Crane, 5000, Complete overhaul., N, 2024-07-30 09:00:00\\nTable: maintain_maintenancetask\\nHeaders: id, machinery, hours_of_operation, description, status, due_date'),\n",
       " Document(page_content='Row: 4, Loader, 450, General maintenance., g, 2024-08-01 11:30:00\\nTable: maintain_maintenancetask\\nHeaders: id, machinery, hours_of_operation, description, status, due_date\\nRow: 5, Dump Truck, 1500, Brake inspection., N, 2024-08-03 14:20:00\\nTable: maintain_maintenancetask\\nHeaders: id, machinery, hours_of_operation, description, status, due_date\\nRow: 6, Excavator, 200, Hydraulic system check., g, 2024-08-05 13:25:00\\nTable: maintain_maintenancetask'),\n",
       " Document(page_content='Table: maintain_maintenancetask\\nHeaders: id, machinery, hours_of_operation, description, status, due_date\\nRow: 7, Bulldozer, 300, Engine tune-up., N, 2024-08-07 08:10:00\\nTable: maintain_maintenancetask\\nHeaders: id, machinery, hours_of_operation, description, status, due_date\\nRow: 8, Crane, 4200, Structural inspection., g, 2024-08-09 16:00:00\\nTable: maintain_maintenancetask\\nHeaders: id, machinery, hours_of_operation, description, status, due_date'),\n",
       " Document(page_content='Row: 9, Loader, 800, Transmission service., N, 2024-08-12 10:40:00\\nTable: maintain_maintenancetask\\nHeaders: id, machinery, hours_of_operation, description, status, due_date\\nRow: 10, Dump Truck, 2200, Exhaust system repair., g, 2024-08-15 12:00:00\\nTable: maintain_maintenancetask\\nHeaders: id, machinery, hours_of_operation, description, status, due_date\\nRow: 11, Excavator, 250, Undercarriage inspection., N, 2024-08-17 09:50:00\\nTable: maintain_maintenancetask'),\n",
       " Document(page_content='Table: maintain_maintenancetask\\nHeaders: id, machinery, hours_of_operation, description, status, due_date\\nRow: 12, Bulldozer, 350, Filter change., g, 2024-08-20 15:00:00\\nTable: maintain_maintenancetask\\nHeaders: id, machinery, hours_of_operation, description, status, due_date\\nRow: 13, Crane, 4800, Electrical system check., N, 2024-08-22 14:10:00\\nTable: maintain_maintenancetask\\nHeaders: id, machinery, hours_of_operation, description, status, due_date'),\n",
       " Document(page_content='Row: 14, Loader, 600, Coolant system service., g, 2024-08-25 11:30:00\\nTable: maintain_maintenancetask\\nHeaders: id, machinery, hours_of_operation, description, status, due_date\\nRow: 15, Dump Truck, 1800, Tire replacement., N, 2024-08-28 08:00:00\\nTable: maintain_maintenancetask\\nHeaders: id, machinery, hours_of_operation, description, status, due_date\\nRow: 16, Excavator, 300, Engine repair., g, 2024-08-30 10:15:00\\nTable: maintain_maintenancetask'),\n",
       " Document(page_content='Table: maintain_maintenancetask\\nHeaders: id, machinery, hours_of_operation, description, status, due_date\\nRow: 17, Bulldozer, 400, Hydraulic fluid change., N, 2024-09-02 13:00:00\\nTable: maintain_maintenancetask\\nHeaders: id, machinery, hours_of_operation, description, status, due_date\\nRow: 18, Crane, 4900, Maintenance and calibration., g, 2024-09-05 12:30:00\\nTable: maintain_maintenancetask\\nHeaders: id, machinery, hours_of_operation, description, status, due_date'),\n",
       " Document(page_content='Row: 19, Loader, 700, General inspection., N, 2024-09-08 15:00:00\\nTable: maintain_maintenancetask\\nHeaders: id, machinery, hours_of_operation, description, status, due_date\\nRow: 20, Dump Truck, 1600, Brake system check., g, 2024-09-10 09:45:00\\nTable: core_labor\\nHeaders: id, name\\nRow: 68, Amit Sharma\\nTable: core_labor\\nHeaders: id, name\\nRow: 69, Priya Patel\\nTable: core_labor\\nHeaders: id, name\\nRow: 70, Rajesh Kumar\\nTable: core_labor\\nHeaders: id, name\\nRow: 71, Anita Singh\\nTable: core_labor'),\n",
       " Document(page_content='Row: 71, Anita Singh\\nTable: core_labor\\nHeaders: id, name\\nRow: 72, Ravi Gupta\\nTable: core_labor\\nHeaders: id, name\\nRow: 73, Pooja Agarwal\\nTable: core_labor\\nHeaders: id, name\\nRow: 74, Vikram Rao\\nTable: core_labor\\nHeaders: id, name\\nRow: 75, Sita Verma\\nTable: core_labor\\nHeaders: id, name\\nRow: 76, Suresh Yadav\\nTable: core_labor\\nHeaders: id, name\\nRow: 77, Neha Desai\\nTable: core_labor\\nHeaders: id, name\\nRow: 78, Arun Mehta\\nTable: core_labor\\nHeaders: id, name\\nRow: 79, Sonali Joshi\\nTable: core_labor'),\n",
       " Document(page_content='Row: 79, Sonali Joshi\\nTable: core_labor\\nHeaders: id, name\\nRow: 80, Deepak Shah\\nTable: core_labor\\nHeaders: id, name\\nRow: 81, Kavita Reddy\\nTable: core_labor\\nHeaders: id, name\\nRow: 82, Manoj Nair\\nTable: core_labor\\nHeaders: id, name\\nRow: 83, Rekha Pillai\\nTable: core_labor\\nHeaders: id, name\\nRow: 84, Rohit Choudhury\\nTable: core_labor\\nHeaders: id, name\\nRow: 85, Sonia Kaur\\nTable: core_labor\\nHeaders: id, name\\nRow: 86, Jitendra Das\\nTable: core_labor\\nHeaders: id, name\\nRow: 87, Anjali Sharma'),\n",
       " Document(page_content='Headers: id, name\\nRow: 87, Anjali Sharma\\nTable: core_labor\\nHeaders: id, name\\nRow: 88, Kumar Suresh\\nTable: core_labor\\nHeaders: id, name\\nRow: 89, Isha Bhat\\nTable: core_labor\\nHeaders: id, name\\nRow: 90, Sanjay Jain\\nTable: core_labor\\nHeaders: id, name\\nRow: 91, Gita Nair\\nTable: core_labor\\nHeaders: id, name\\nRow: 92, Nitin Agarwal\\nTable: core_labor\\nHeaders: id, name\\nRow: 93, Sneha Patel\\nTable: core_labor\\nHeaders: id, name\\nRow: 94, Vijay Reddy\\nTable: core_labor\\nHeaders: id, name\\nRow: 95, Lata Verma'),\n",
       " Document(page_content='Headers: id, name\\nRow: 95, Lata Verma\\nTable: core_labor\\nHeaders: id, name\\nRow: 96, Deepa Kumar\\nTable: core_labor\\nHeaders: id, name\\nRow: 97, Ravi Patel\\nTable: core_attendance\\nHeaders: id, date, status, labor_id\\nRow: 1, 2024-07-28, Present, 68\\nTable: core_attendance\\nHeaders: id, date, status, labor_id\\nRow: 2, 2024-07-28, Absent, 69\\nTable: core_attendance\\nHeaders: id, date, status, labor_id\\nRow: 3, 2024-07-28, Present, 70\\nTable: core_attendance\\nHeaders: id, date, status, labor_id'),\n",
       " Document(page_content='Headers: id, date, status, labor_id\\nRow: 4, 2024-07-28, Present, 71\\nTable: core_attendance\\nHeaders: id, date, status, labor_id\\nRow: 5, 2024-07-28, Absent, 72\\nTable: core_attendance\\nHeaders: id, date, status, labor_id\\nRow: 6, 2024-07-28, Present, 73\\nTable: core_attendance\\nHeaders: id, date, status, labor_id\\nRow: 7, 2024-07-28, Present, 74\\nTable: core_attendance\\nHeaders: id, date, status, labor_id\\nRow: 8, 2024-07-28, Absent, 75\\nTable: core_attendance\\nHeaders: id, date, status, labor_id'),\n",
       " Document(page_content='Headers: id, date, status, labor_id\\nRow: 9, 2024-07-28, Present, 76\\nTable: core_attendance\\nHeaders: id, date, status, labor_id\\nRow: 10, 2024-07-28, Absent, 77\\nTable: core_attendance\\nHeaders: id, date, status, labor_id\\nRow: 11, 2024-07-28, Present, 78\\nTable: core_attendance\\nHeaders: id, date, status, labor_id\\nRow: 12, 2024-07-28, Present, 79\\nTable: core_attendance\\nHeaders: id, date, status, labor_id\\nRow: 13, 2024-07-28, Absent, 80\\nTable: core_attendance\\nHeaders: id, date, status, labor_id'),\n",
       " Document(page_content='Headers: id, date, status, labor_id\\nRow: 14, 2024-07-28, Present, 81\\nTable: core_attendance\\nHeaders: id, date, status, labor_id\\nRow: 15, 2024-07-28, Absent, 82\\nTable: core_attendance\\nHeaders: id, date, status, labor_id\\nRow: 16, 2024-07-28, Present, 83\\nTable: core_attendance\\nHeaders: id, date, status, labor_id\\nRow: 17, 2024-07-28, Present, 84\\nTable: core_attendance\\nHeaders: id, date, status, labor_id\\nRow: 18, 2024-07-28, Absent, 85\\nTable: core_attendance\\nHeaders: id, date, status, labor_id'),\n",
       " Document(page_content='Headers: id, date, status, labor_id\\nRow: 19, 2024-07-28, Present, 86\\nTable: core_attendance\\nHeaders: id, date, status, labor_id\\nRow: 20, 2024-07-28, Absent, 87\\nTable: core_attendance\\nHeaders: id, date, status, labor_id\\nRow: 21, 2024-07-28, Present, 88\\nTable: core_attendance\\nHeaders: id, date, status, labor_id\\nRow: 22, 2024-07-28, Absent, 89\\nTable: core_attendance\\nHeaders: id, date, status, labor_id\\nRow: 23, 2024-07-28, Present, 90\\nTable: core_attendance\\nHeaders: id, date, status, labor_id'),\n",
       " Document(page_content='Headers: id, date, status, labor_id\\nRow: 24, 2024-07-28, Absent, 91\\nTable: core_attendance\\nHeaders: id, date, status, labor_id\\nRow: 25, 2024-07-28, Present, 92\\nTable: core_attendance\\nHeaders: id, date, status, labor_id\\nRow: 26, 2024-07-28, Absent, 93\\nTable: core_attendance\\nHeaders: id, date, status, labor_id\\nRow: 27, 2024-07-28, Present, 94\\nTable: core_attendance\\nHeaders: id, date, status, labor_id\\nRow: 28, 2024-07-28, Absent, 95\\nTable: core_attendance\\nHeaders: id, date, status, labor_id'),\n",
       " Document(page_content='Headers: id, date, status, labor_id\\nRow: 29, 2024-07-28, Present, 96\\nTable: core_attendance\\nHeaders: id, date, status, labor_id\\nRow: 30, 2024-07-28, Absent, 97\\nTable: core_taskassignment\\nHeaders: id, date_assigned, status, labor_id, task_id\\nRow: 1, 2024-07-28, Completed, 68, 1\\nTable: core_taskassignment\\nHeaders: id, date_assigned, status, labor_id, task_id\\nRow: 2, 2024-07-28, Pending, 69, 2\\nTable: core_taskassignment\\nHeaders: id, date_assigned, status, labor_id, task_id'),\n",
       " Document(page_content='Row: 3, 2024-07-28, Completed, 70, 3\\nTable: core_taskassignment\\nHeaders: id, date_assigned, status, labor_id, task_id\\nRow: 4, 2024-07-28, Pending, 71, 4\\nTable: core_taskassignment\\nHeaders: id, date_assigned, status, labor_id, task_id\\nRow: 5, 2024-07-28, Completed, 72, 5\\nTable: core_taskassignment\\nHeaders: id, date_assigned, status, labor_id, task_id\\nRow: 6, 2024-07-28, Pending, 73, 1\\nTable: core_taskassignment\\nHeaders: id, date_assigned, status, labor_id, task_id'),\n",
       " Document(page_content='Row: 7, 2024-07-28, Completed, 74, 2\\nTable: core_taskassignment\\nHeaders: id, date_assigned, status, labor_id, task_id\\nRow: 8, 2024-07-28, Pending, 75, 3\\nTable: core_taskassignment\\nHeaders: id, date_assigned, status, labor_id, task_id\\nRow: 9, 2024-07-28, Completed, 76, 4\\nTable: core_taskassignment\\nHeaders: id, date_assigned, status, labor_id, task_id\\nRow: 10, 2024-07-28, Pending, 77, 5\\nTable: core_taskassignment\\nHeaders: id, date_assigned, status, labor_id, task_id'),\n",
       " Document(page_content='Row: 11, 2024-07-28, Completed, 78, 1\\nTable: core_taskassignment\\nHeaders: id, date_assigned, status, labor_id, task_id\\nRow: 12, 2024-07-28, Pending, 79, 2\\nTable: core_taskassignment\\nHeaders: id, date_assigned, status, labor_id, task_id\\nRow: 13, 2024-07-28, Completed, 80, 3\\nTable: core_taskassignment\\nHeaders: id, date_assigned, status, labor_id, task_id\\nRow: 14, 2024-07-28, Pending, 81, 4\\nTable: core_taskassignment\\nHeaders: id, date_assigned, status, labor_id, task_id'),\n",
       " Document(page_content='Row: 15, 2024-07-28, Completed, 82, 5\\nTable: core_taskassignment\\nHeaders: id, date_assigned, status, labor_id, task_id\\nRow: 16, 2024-07-28, Pending, 83, 1\\nTable: core_taskassignment\\nHeaders: id, date_assigned, status, labor_id, task_id\\nRow: 17, 2024-07-28, Completed, 84, 2\\nTable: core_taskassignment\\nHeaders: id, date_assigned, status, labor_id, task_id\\nRow: 18, 2024-07-28, Pending, 85, 3\\nTable: core_taskassignment\\nHeaders: id, date_assigned, status, labor_id, task_id'),\n",
       " Document(page_content='Row: 19, 2024-07-28, Completed, 86, 4\\nTable: core_taskassignment\\nHeaders: id, date_assigned, status, labor_id, task_id\\nRow: 20, 2024-07-28, Pending, 87, 5\\nTable: core_taskassignment\\nHeaders: id, date_assigned, status, labor_id, task_id\\nRow: 21, 2024-07-28, Completed, 88, 1\\nTable: core_taskassignment\\nHeaders: id, date_assigned, status, labor_id, task_id\\nRow: 22, 2024-07-28, Pending, 89, 2\\nTable: core_taskassignment\\nHeaders: id, date_assigned, status, labor_id, task_id'),\n",
       " Document(page_content='Row: 23, 2024-07-28, Completed, 90, 3\\nTable: core_taskassignment\\nHeaders: id, date_assigned, status, labor_id, task_id\\nRow: 24, 2024-07-28, Pending, 91, 4\\nTable: core_taskassignment\\nHeaders: id, date_assigned, status, labor_id, task_id\\nRow: 25, 2024-07-28, Completed, 92, 5\\nTable: core_taskassignment\\nHeaders: id, date_assigned, status, labor_id, task_id\\nRow: 26, 2024-07-28, Pending, 93, 1\\nTable: core_taskassignment\\nHeaders: id, date_assigned, status, labor_id, task_id'),\n",
       " Document(page_content='Row: 27, 2024-07-28, Completed, 94, 2\\nTable: core_taskassignment\\nHeaders: id, date_assigned, status, labor_id, task_id\\nRow: 28, 2024-07-28, Pending, 95, 3\\nTable: core_taskassignment\\nHeaders: id, date_assigned, status, labor_id, task_id\\nRow: 29, 2024-07-28, Completed, 96, 4\\nTable: core_taskassignment\\nHeaders: id, date_assigned, status, labor_id, task_id\\nRow: 30, 2024-07-28, Pending, 97, 5\\nTable: core_taskassignment\\nHeaders: id, date_assigned, status, labor_id, task_id'),\n",
       " Document(page_content='Row: 31, 2024-07-28, pending, 70, 4\\nTable: core_task\\nHeaders: id, title, description\\nRow: 1, Other services by the IMC, Services\\nTable: core_task\\nHeaders: id, title, description\\nRow: 2, Public educations and cultral, Education and Cultural\\nTable: core_task\\nHeaders: id, title, description\\nRow: 3, Public transportation issue, Public Transport\\nTable: core_task\\nHeaders: id, title, description\\nRow: 4, waste management, Waste Management\\nTable: core_task\\nHeaders: id, title, description'),\n",
       " Document(page_content='Table: core_task\\nHeaders: id, title, description\\nRow: 5, Service  regarding sewage and drainage, Sewage & Drainage')]"
      ]
     },
     "execution_count": 35,
     "metadata": {},
     "output_type": "execute_result"
    }
   ],
   "source": [
    "text_splitter = RecursiveCharacterTextSplitter(chunk_size=500, chunk_overlap=50)\n",
    "text = '\\n'.join(docs)\n",
    "chunks = text_splitter.split_text(text)\n",
    "\n",
    "documents = [Document(page_content=chunk) for chunk in chunks]\n",
    "\n",
    "print(f\"Generated {len(documents)} documents with content.\")\n",
    "documents"
   ]
  },
  {
   "cell_type": "code",
   "execution_count": 36,
   "metadata": {},
   "outputs": [
    {
     "name": "stderr",
     "output_type": "stream",
     "text": [
      "I0000 00:00:1722399695.338976   13636 check_gcp_environment_no_op.cc:29] ALTS: Platforms other than Linux and Windows are not supported\n"
     ]
    }
   ],
   "source": [
    "text_chunks=documents\n",
    "persist_directory = \"db\"\n",
    "embedding = GoogleGenerativeAIEmbeddings(model=\"models/embedding-001\")\n",
    "vectordb = Chroma.from_documents(documents=text_chunks, embedding=embedding, persist_directory=persist_directory)\n"
   ]
  },
  {
   "cell_type": "code",
   "execution_count": 37,
   "metadata": {},
   "outputs": [],
   "source": [
    "from dotenv import load_dotenv\n",
    "load_dotenv()\n",
    "google_gemini_api = os.getenv(\"GOOGLE_API_KEY\")"
   ]
  },
  {
   "cell_type": "code",
   "execution_count": 38,
   "metadata": {},
   "outputs": [
    {
     "name": "stderr",
     "output_type": "stream",
     "text": [
      "I0000 00:00:1722399700.735028   13636 check_gcp_environment_no_op.cc:29] ALTS: Platforms other than Linux and Windows are not supported\n",
      "I0000 00:00:1722399700.736127   13636 check_gcp_environment_no_op.cc:29] ALTS: Platforms other than Linux and Windows are not supported\n"
     ]
    }
   ],
   "source": [
    "retriever = vectordb.as_retriever()\n",
    "llm_model = ChatGoogleGenerativeAI(model=\"models/gemini-1.5-pro\", google_api_key=google_gemini_api)\n"
   ]
  },
  {
   "cell_type": "code",
   "execution_count": 39,
   "metadata": {},
   "outputs": [],
   "source": [
    "system_prompt = (\n",
    "    \"You are an expert on the Municipal Corporation of Indore with access to detailed data. \"\n",
    "    \"Answer questions based on this information, using concise and relevant details from the dataset. \"\n",
    "    \"Context: {context}\"\n",
    ")\n"
   ]
  },
  {
   "cell_type": "code",
   "execution_count": 40,
   "metadata": {},
   "outputs": [],
   "source": [
    "from langchain.chains import RetrievalQA\n",
    "from langchain_core.prompts import ChatPromptTemplate\n",
    "prompt = ChatPromptTemplate.from_messages(\n",
    "    [\n",
    "        (\"system\", system_prompt),\n",
    "        (\"human\", \"{input}\"),\n",
    "    ]\n",
    ")"
   ]
  },
  {
   "cell_type": "code",
   "execution_count": 42,
   "metadata": {},
   "outputs": [],
   "source": [
    "qa_chain=RetrievalQA.from_chain_type(\n",
    "    llm=llm_model,\n",
    "    chain_type=\"stuff\",\n",
    "    retriever=retriever,\n",
    "    return_source_documents=True\n",
    ")"
   ]
  },
  {
   "cell_type": "code",
   "execution_count": 43,
   "metadata": {},
   "outputs": [],
   "source": [
    "\n",
    "class Memory:\n",
    "    def __init__(self):\n",
    "        self.history = []\n",
    "\n",
    "    def add(self, entry):\n",
    "        self.history.append(entry)\n",
    "        if len(self.history) > 10:\n",
    "            self.history.pop(0)\n",
    "\n",
    "    def get_context(self):\n",
    "        return \" \".join(self.history)\n",
    "\n",
    "memory = Memory()"
   ]
  },
  {
   "cell_type": "code",
   "execution_count": 44,
   "metadata": {},
   "outputs": [],
   "source": [
    "def get_response(query):\n",
    "    context = memory.get_context() + f\" Recent query: {query}\"\n",
    "    print(f\"Query: {query}\\nContext: {context}\")\n",
    "    try:\n",
    "        response = chain.invoke({\"input\": query, \"context\": context})\n",
    "        answer = response.get('answer', '')\n",
    "        print(f\"Answer: {answer}\")\n",
    "        memory.add(f\"User: {query}\\nAI: {answer}\")\n",
    "        return answer\n",
    "    except Exception as e:\n",
    "        print(f\"Error: {e}\")\n",
    "        return \"Sorry, I couldn't process your request.\""
   ]
  },
  {
   "cell_type": "code",
   "execution_count": 45,
   "metadata": {},
   "outputs": [
    {
     "name": "stdout",
     "output_type": "stream",
     "text": [
      "Query: How many vehicles in good conditions\n",
      "Context:  Recent query: How many vehicles in good conditions\n",
      "Answer: There are **2 vehicles** in good condition. \n",
      "\n"
     ]
    }
   ],
   "source": [
    "result=get_response(\"How many vehicles in good conditions\")"
   ]
  }
 ],
 "metadata": {
  "kernelspec": {
   "display_name": "inventory",
   "language": "python",
   "name": "python3"
  },
  "language_info": {
   "codemirror_mode": {
    "name": "ipython",
    "version": 3
   },
   "file_extension": ".py",
   "mimetype": "text/x-python",
   "name": "python",
   "nbconvert_exporter": "python",
   "pygments_lexer": "ipython3",
   "version": "3.12.4"
  }
 },
 "nbformat": 4,
 "nbformat_minor": 2
}
